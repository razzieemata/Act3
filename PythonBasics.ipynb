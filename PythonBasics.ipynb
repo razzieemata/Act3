{
  "cells": [
    {
      "cell_type": "markdown",
      "metadata": {
        "id": "6k-3fjsyorBS"
      },
      "source": [
        "# Python Basics"
      ]
    },
    {
      "cell_type": "markdown",
      "metadata": {
        "id": "6DIEiFbAorBU"
      },
      "source": [
        "### to install the packages type this in each cell"
      ]
    },
    {
      "cell_type": "markdown",
      "metadata": {
        "id": "ii7U7eJnorBU"
      },
      "source": [
        "write \n",
        "`'!pip install'` and then press `shift  + enter`"
      ]
    },
    {
      "cell_type": "markdown",
      "metadata": {
        "id": "44g8cgaQorBV"
      },
      "source": [
        "### Printing, Variables, Arithmetic"
      ]
    },
    {
      "cell_type": "code",
      "execution_count": null,
      "metadata": {
        "colab": {
          "base_uri": "https://localhost:8080/"
        },
        "id": "q5tVkfk0orBV",
        "outputId": "971e9e6d-4472-47ab-e54e-8da31b13b4d0"
      },
      "outputs": [
        {
          "name": "stdout",
          "output_type": "stream",
          "text": [
            "i love python\n",
            "Hello Word!\n",
            "Hello FSUU.\n"
          ]
        }
      ],
      "source": [
        "# Demonstrate Print 'I already love Python'\n",
        "print(\"i love python\")\n",
        "print(\"Hello Word!\")\n",
        "print(\"Hello FSUU.\")\n",
        "# It prints HW"
      ]
    },
    {
      "cell_type": "code",
      "execution_count": null,
      "metadata": {
        "colab": {
          "base_uri": "https://localhost:8080/"
        },
        "id": "dHXWtB01orBW",
        "outputId": "305d88a7-73ca-46cd-fb9e-30316f55547a"
      },
      "outputs": [
        {
          "name": "stdout",
          "output_type": "stream",
          "text": [
            "10\n",
            "5\n",
            "100\n"
          ]
        }
      ],
      "source": [
        "# Variables and assignment\n",
        "a = 10\n",
        "print(a)\n",
        "b = 5\n",
        "print(b)\n",
        "numbers = 100\n",
        "print(numbers)"
      ]
    },
    {
      "cell_type": "code",
      "execution_count": null,
      "metadata": {
        "colab": {
          "base_uri": "https://localhost:8080/"
        },
        "id": "Z5EO8GArorBW",
        "outputId": "d5457a07-0100-4e9f-c56e-d853ef7a20dc",
        "scrolled": true
      },
      "outputs": [
        {
          "name": "stdout",
          "output_type": "stream",
          "text": [
            "ARITHMETIC OPERATORS\n",
            " value of a is  10  value of b is  5\n",
            "15\n",
            "50\n",
            "2.0\n",
            "5\n",
            "0\n",
            "RELATIONAL OPERATORS\n",
            "False\n",
            "True\n",
            "False\n",
            "True\n",
            "True\n",
            "LOGICAL OPERATORS\n",
            "True\n",
            "True\n",
            "False\n"
          ]
        }
      ],
      "source": [
        "# Arithmetic Operators\n",
        "print (\"ARITHMETIC OPERATORS\")\n",
        "# Note variable values persist from previous cell\n",
        "print (\" value of a is \", a ,\" value of b is \", b )\n",
        "print (a + b) # addition\n",
        "print (a * b) # this is multiplication\n",
        "print (a / b) # this is division\n",
        "print (a - b) # subtraction\n",
        "print (a % b) # modulus , it gets the remainder\n",
        "\n",
        "print (\"RELATIONAL OPERATORS\")\n",
        "# Relational Operators\n",
        "print (a < b) # the anser will be a boolean result\n",
        "print (a > b) # the anser will be a boolean result\n",
        "print (a <= b)\n",
        "print (a >= b)\n",
        "\n",
        "c = 0\n",
        "d = 0\n",
        "print (c == d) #  0 == 0 thus it is True\n",
        "\n",
        "print (\"LOGICAL OPERATORS\")\n",
        "# logical Operators\n",
        "print (True and True)\n",
        "print ( False or True)\n",
        "print ( not True)"
      ]
    },
    {
      "cell_type": "code",
      "execution_count": 1,
      "metadata": {
        "colab": {
          "base_uri": "https://localhost:8080/"
        },
        "id": "klddeHWzorBX",
        "outputId": "e848e9f5-9dd3-4214-bf81-2e6ae527e971"
      },
      "outputs": [
        {
          "ename": "NameError",
          "evalue": "name 'a' is not defined",
          "output_type": "error",
          "traceback": [
            "\u001b[1;31m---------------------------------------------------------------------------\u001b[0m",
            "\u001b[1;31mNameError\u001b[0m                                 Traceback (most recent call last)",
            "Cell \u001b[1;32mIn [1], line 2\u001b[0m\n\u001b[0;32m      1\u001b[0m \u001b[38;5;66;03m# Update\u001b[39;00m\n\u001b[1;32m----> 2\u001b[0m a \u001b[38;5;241m=\u001b[39m a \u001b[38;5;241m+\u001b[39m b\n\u001b[0;32m      3\u001b[0m \u001b[38;5;28mprint\u001b[39m (a)\n",
            "\u001b[1;31mNameError\u001b[0m: name 'a' is not defined"
          ]
        }
      ],
      "source": [
        "# Update\n",
        "a = a + b\n",
        "print (a)"
      ]
    },
    {
      "cell_type": "code",
      "execution_count": null,
      "metadata": {
        "colab": {
          "base_uri": "https://localhost:8080/"
        },
        "id": "CcGnmjDrorBX",
        "outputId": "4f8f855b-1e03-4099-9a35-3796e8e97d8e"
      },
      "outputs": [
        {
          "name": "stdout",
          "output_type": "stream",
          "text": [
            "20\n"
          ]
        }
      ],
      "source": [
        "# Increment\n",
        "a += b\n",
        "\n",
        "print (a)"
      ]
    },
    {
      "cell_type": "code",
      "execution_count": null,
      "metadata": {
        "colab": {
          "base_uri": "https://localhost:8080/"
        },
        "id": "rJn2f3TiorBX",
        "outputId": "5b6365d3-c25a-4dc2-bb36-0a66feeb429b"
      },
      "outputs": [
        {
          "data": {
            "text/plain": [
              "1"
            ]
          },
          "execution_count": 17,
          "metadata": {
            "tags": []
          },
          "output_type": "execute_result"
        }
      ],
      "source": [
        "5>>2"
      ]
    },
    {
      "cell_type": "code",
      "execution_count": null,
      "metadata": {
        "colab": {
          "base_uri": "https://localhost:8080/"
        },
        "id": "IahngkJdorBY",
        "outputId": "7016d2eb-1566-43db-e54b-c66b6ed636af"
      },
      "outputs": [
        {
          "data": {
            "text/plain": [
              "0"
            ]
          },
          "execution_count": 18,
          "metadata": {
            "tags": []
          },
          "output_type": "execute_result"
        }
      ],
      "source": [
        "10%10"
      ]
    },
    {
      "cell_type": "markdown",
      "metadata": {
        "id": "rHkLX3p7orBY"
      },
      "source": [
        "### Types"
      ]
    },
    {
      "cell_type": "code",
      "execution_count": 5,
      "metadata": {
        "colab": {
          "base_uri": "https://localhost:8080/"
        },
        "id": "o1Vq94FoorBY",
        "outputId": "e070107a-068b-4953-a822-243cb3575f3c"
      },
      "outputs": [
        {
          "name": "stdout",
          "output_type": "stream",
          "text": [
            "<class 'int'>\n",
            "<class 'str'>\n",
            "<class 'float'>\n"
          ]
        },
        {
          "data": {
            "text/plain": [
              "float"
            ]
          },
          "execution_count": 5,
          "metadata": {},
          "output_type": "execute_result"
        }
      ],
      "source": [
        "# Main reason is when you forgot what is the type of that variable\n",
        "# Dynamically-inferred types\n",
        "a = 10\n",
        "print (type(a))\n",
        "a = '10'\n",
        "print (type(a))\n",
        "a = 10.0\n",
        "print (type(a))\n",
        "\n",
        "type(a)"
      ]
    },
    {
      "cell_type": "code",
      "execution_count": null,
      "metadata": {
        "colab": {
          "base_uri": "https://localhost:8080/",
          "height": 198
        },
        "id": "XzYAiQZzorBY",
        "outputId": "22c06b58-c872-4a1f-8469-195ccded1f86"
      },
      "outputs": [
        {
          "ename": "TypeError",
          "evalue": "ignored",
          "output_type": "error",
          "traceback": [
            "\u001b[0;31m---------------------------------------------------------------------------\u001b[0m",
            "\u001b[0;31mTypeError\u001b[0m                                 Traceback (most recent call last)",
            "\u001b[0;32m<ipython-input-20-6af6cf7fb616>\u001b[0m in \u001b[0;36m<module>\u001b[0;34m()\u001b[0m\n\u001b[1;32m      2\u001b[0m \u001b[0ma\u001b[0m \u001b[0;34m=\u001b[0m \u001b[0;36m10\u001b[0m\u001b[0;34m\u001b[0m\u001b[0;34m\u001b[0m\u001b[0m\n\u001b[1;32m      3\u001b[0m \u001b[0mb\u001b[0m \u001b[0;34m=\u001b[0m \u001b[0;34m'5'\u001b[0m\u001b[0;34m\u001b[0m\u001b[0;34m\u001b[0m\u001b[0m\n\u001b[0;32m----> 4\u001b[0;31m \u001b[0mprint\u001b[0m \u001b[0;34m(\u001b[0m\u001b[0ma\u001b[0m \u001b[0;34m+\u001b[0m \u001b[0mb\u001b[0m\u001b[0;34m)\u001b[0m\u001b[0;34m\u001b[0m\u001b[0;34m\u001b[0m\u001b[0m\n\u001b[0m",
            "\u001b[0;31mTypeError\u001b[0m: unsupported operand type(s) for +: 'int' and 'str'"
          ]
        }
      ],
      "source": [
        "# Type-checking\n",
        "a = 10\n",
        "b = '5'\n",
        "print (a + b)"
      ]
    },
    {
      "cell_type": "code",
      "execution_count": 6,
      "metadata": {
        "colab": {
          "base_uri": "https://localhost:8080/"
        },
        "id": "b1THa5roorBY",
        "outputId": "e56ba2c8-cb1e-4a31-d4e1-864b436b173a"
      },
      "outputs": [
        {
          "name": "stdout",
          "output_type": "stream",
          "text": [
            "15\n"
          ]
        }
      ],
      "source": [
        "# Manual type-conversion (string to int)\n",
        "a = 10\n",
        "b = '5'\n",
        "print (a + int(b))"
      ]
    },
    {
      "cell_type": "code",
      "execution_count": null,
      "metadata": {
        "colab": {
          "base_uri": "https://localhost:8080/"
        },
        "id": "uTDDSOK5orBZ",
        "outputId": "a2ac8cfd-5c6d-4ea9-e19e-a1994a165741"
      },
      "outputs": [
        {
          "name": "stdout",
          "output_type": "stream",
          "text": [
            "<class 'int'>\n",
            "15.0 <class 'float'>\n"
          ]
        }
      ],
      "source": [
        "# Automatic type-conversion (int to float)\n",
        "a = 10\n",
        "print (type(a))\n",
        "a += 5.0\n",
        "print (a, type(a))"
      ]
    },
    {
      "cell_type": "code",
      "execution_count": null,
      "metadata": {
        "colab": {
          "base_uri": "https://localhost:8080/"
        },
        "id": "WmNggNEqorBZ",
        "outputId": "a1a86978-f99b-4696-a5fa-fb7704fa536d"
      },
      "outputs": [
        {
          "name": "stdout",
          "output_type": "stream",
          "text": [
            "2.0\n",
            "0.5\n"
          ]
        }
      ],
      "source": [
        "# Integer division\n",
        "a = 10\n",
        "b = 5\n",
        "print (a/b)\n",
        "print (b/a)"
      ]
    },
    {
      "cell_type": "code",
      "execution_count": null,
      "metadata": {
        "colab": {
          "base_uri": "https://localhost:8080/"
        },
        "id": "q4u35ymAorBZ",
        "outputId": "6b60d0d9-4039-4da5-a21c-1aa16bf822fc"
      },
      "outputs": [
        {
          "name": "stdout",
          "output_type": "stream",
          "text": [
            "0.5\n"
          ]
        }
      ],
      "source": [
        "# Forcing float division\n",
        "print (float(b/a))\n",
        "# How to correct?"
      ]
    },
    {
      "cell_type": "code",
      "execution_count": null,
      "metadata": {
        "colab": {
          "base_uri": "https://localhost:8080/"
        },
        "id": "FGjelZIrorBZ",
        "outputId": "fa78f456-988e-40d5-800e-f683630a496a"
      },
      "outputs": [
        {
          "name": "stdout",
          "output_type": "stream",
          "text": [
            "Data Science\n"
          ]
        }
      ],
      "source": [
        "# String \"arithmetic\" (actually concatenation)\n",
        "a = 'Data '\n",
        "b = 'Science'\n",
        "print (a + b)"
      ]
    },
    {
      "cell_type": "markdown",
      "metadata": {
        "id": "IFOxev2dorBa"
      },
      "source": [
        "### User Input"
      ]
    },
    {
      "cell_type": "code",
      "execution_count": null,
      "metadata": {
        "colab": {
          "base_uri": "https://localhost:8080/"
        },
        "id": "oQpcYgesorBa",
        "outputId": "a9adb29c-7d4f-4c25-e421-4fa1e56d7a1a"
      },
      "outputs": [
        {
          "name": "stdout",
          "output_type": "stream",
          "text": [
            "Enter value 1: 100\n",
            "Enter value 2: 100\n",
            "200\n"
          ]
        }
      ],
      "source": [
        "a = input('Enter value 1: ')\n",
        "b = input('Enter value 2: ')\n",
        "print (int(a) + int(b))\n"
      ]
    },
    {
      "cell_type": "code",
      "execution_count": null,
      "metadata": {
        "colab": {
          "base_uri": "https://localhost:8080/"
        },
        "id": "CpU59-QNorBa",
        "outputId": "25878c4d-e8bb-4e62-d51b-bf56c95eb861",
        "scrolled": true
      },
      "outputs": [
        {
          "name": "stdout",
          "output_type": "stream",
          "text": [
            "Enter value 1: 23\n",
            "Enter value 2: 90\n",
            "0.25555555555555554\n"
          ]
        }
      ],
      "source": [
        "# Note: input() function expects number or quoted string\n",
        "# Note: user input is common cause of stuck execution\n",
        "a = input('Enter value 1: ')\n",
        "b = input('Enter value 2: ')\n",
        "#print (int(a) + int(b))\n",
        "print (float(a) / float(b))"
      ]
    },
    {
      "cell_type": "markdown",
      "metadata": {
        "id": "cMcsWBzyorBa"
      },
      "source": [
        "### Conditional (If) Statements"
      ]
    },
    {
      "cell_type": "code",
      "execution_count": null,
      "metadata": {
        "colab": {
          "base_uri": "https://localhost:8080/"
        },
        "id": "OjIyqaaIorBb",
        "outputId": "d37881c7-eca5-4c7c-d5d2-ee06324e93b1"
      },
      "outputs": [
        {
          "name": "stdout",
          "output_type": "stream",
          "text": [
            "no condition matched\n",
            "so a is 5 or less\n"
          ]
        }
      ],
      "source": [
        "# If statements\n",
        "# Unlike other languages, indentation is significant\n",
        "a = -25\n",
        "if a > 10:\n",
        "    print ('a is greater than 10')\n",
        "    if a >= 15:\n",
        "        print ('a is also at least 15')\n",
        "elif a > 5:\n",
        "    print ('a is greater than 5 but not greater than 10')\n",
        "else:\n",
        "    print ('no condition matched')\n",
        "    print ('so a is 5 or less')"
      ]
    },
    {
      "cell_type": "markdown",
      "metadata": {
        "id": "lEJER7yborBb"
      },
      "source": [
        "### <font color = 'green'>Your Turn</font>"
      ]
    },
    {
      "cell_type": "code",
      "execution_count": 11,
      "metadata": {
        "id": "FgmSFts2orBb"
      },
      "outputs": [
        {
          "name": "stdout",
          "output_type": "stream",
          "text": [
            "square root of 5000 is: 70.71067811865476\n",
            "meduim\n"
          ]
        }
      ],
      "source": [
        "# Write a program that asks for a number and computes the\n",
        "# square of that number.\n",
        "# If the square is 100 or greater, print the squared value\n",
        "# and the word 'big'.\n",
        "# Otherwise if the square is 50 or greater, print the\n",
        "# squared value and the word 'medium'.\n",
        "# Otherwise just print 'too small to bother with'.\n",
        "# Note: To compute x squared, use x*x or x**2\n",
        "#\n",
        "#YOUR CODE HERE\n",
        "\n",
        "b = int(input(\"Enter the number:\"))\n",
        "result = b**0.5\n",
        "print(\"square root of\",b,\"is:\",result)\n",
        "b = result\n",
        "if b >100:\n",
        "    print ('big')\n",
        "elif b > 50 and b < 100:\n",
        "        print ('meduim')\n",
        "elif b <50:\n",
        "    print ('too small to bother with')\n",
        "\n"
      ]
    },
    {
      "cell_type": "markdown",
      "metadata": {
        "id": "KPOPnkrhorBb"
      },
      "source": [
        "### Lists and For-Loops"
      ]
    },
    {
      "cell_type": "code",
      "execution_count": null,
      "metadata": {
        "colab": {
          "base_uri": "https://localhost:8080/"
        },
        "id": "zuYe8lWworBb",
        "outputId": "5781dec7-6284-435e-9b10-337ea6e36cb9"
      },
      "outputs": [
        {
          "name": "stdout",
          "output_type": "stream",
          "text": [
            "[2, 4, 7, 9]\n",
            "<class 'list'>\n",
            "4\n"
          ]
        }
      ],
      "source": [
        "# List\n",
        "a = [2, 4, 7, 9]\n",
        "print (a)\n",
        "print (type(a))\n",
        "print (len(a))"
      ]
    },
    {
      "cell_type": "code",
      "execution_count": null,
      "metadata": {
        "colab": {
          "base_uri": "https://localhost:8080/"
        },
        "id": "i8twu8EqorBc",
        "outputId": "9a922f53-de6c-449b-8df7-5c0775aec3e0"
      },
      "outputs": [
        {
          "name": "stdout",
          "output_type": "stream",
          "text": [
            "2 4\n",
            "4 8\n",
            "7 14\n",
            "9 18\n"
          ]
        }
      ],
      "source": [
        "# Iterate through a list \n",
        "# imagine as For-each in Java\n",
        "for x in a:\n",
        "    print (x, 2 * x)"
      ]
    },
    {
      "cell_type": "code",
      "execution_count": null,
      "metadata": {
        "colab": {
          "base_uri": "https://localhost:8080/"
        },
        "id": "UdMJO2IDYnYx",
        "outputId": "c6abe442-251e-4715-99f1-fd3da63efef3"
      },
      "outputs": [
        {
          "name": "stdout",
          "output_type": "stream",
          "text": [
            "<class 'range'>\n",
            "range(0, 100)\n"
          ]
        }
      ],
      "source": [
        "k = range(100)\n",
        "print(type(k))\n",
        "print(k)"
      ]
    },
    {
      "cell_type": "code",
      "execution_count": null,
      "metadata": {
        "colab": {
          "base_uri": "https://localhost:8080/"
        },
        "id": "S9tJhxvjorBc",
        "outputId": "a25a8aa9-a9c0-4ede-f6fb-83c99afa67a1"
      },
      "outputs": [
        {
          "name": "stdout",
          "output_type": "stream",
          "text": [
            "0\n",
            "1\n",
            "2\n",
            "3\n",
            "4\n",
            "5\n",
            "6\n",
            "7\n",
            "8\n",
            "9\n",
            "10\n",
            "11\n",
            "12\n",
            "13\n",
            "14\n",
            "15\n",
            "16\n",
            "17\n",
            "18\n",
            "19\n",
            "20\n",
            "21\n",
            "22\n",
            "23\n",
            "24\n",
            "25\n",
            "26\n",
            "27\n",
            "28\n",
            "29\n",
            "30\n",
            "31\n",
            "32\n",
            "33\n",
            "34\n",
            "35\n",
            "36\n",
            "37\n",
            "38\n",
            "39\n",
            "40\n",
            "41\n",
            "42\n",
            "43\n",
            "44\n",
            "45\n",
            "46\n",
            "47\n",
            "48\n",
            "49\n",
            "50\n",
            "51\n",
            "52\n",
            "53\n",
            "54\n",
            "55\n",
            "56\n",
            "57\n",
            "58\n",
            "59\n",
            "60\n",
            "61\n",
            "62\n",
            "63\n",
            "64\n",
            "65\n",
            "66\n",
            "67\n",
            "68\n",
            "69\n",
            "70\n",
            "71\n",
            "72\n",
            "73\n",
            "74\n",
            "75\n",
            "76\n",
            "77\n",
            "78\n",
            "79\n",
            "80\n",
            "81\n",
            "82\n",
            "83\n",
            "84\n",
            "85\n",
            "86\n",
            "87\n",
            "88\n",
            "89\n",
            "90\n",
            "91\n",
            "92\n",
            "93\n",
            "94\n",
            "95\n",
            "96\n",
            "97\n",
            "98\n",
            "99\n"
          ]
        }
      ],
      "source": [
        "for x in range(100):\n",
        "    print(x)"
      ]
    },
    {
      "cell_type": "code",
      "execution_count": null,
      "metadata": {
        "colab": {
          "base_uri": "https://localhost:8080/"
        },
        "id": "x54AAlnmorBd",
        "outputId": "62655e0f-757d-4320-fbaf-c83641484a15"
      },
      "outputs": [
        {
          "name": "stdout",
          "output_type": "stream",
          "text": [
            "4\n",
            "9\n"
          ]
        }
      ],
      "source": [
        "# Access element by index (starts at zero)\n",
        "print (a[1])\n",
        "print (a[3])\n",
        "# Try a[5]"
      ]
    },
    {
      "cell_type": "code",
      "execution_count": null,
      "metadata": {
        "colab": {
          "base_uri": "https://localhost:8080/"
        },
        "id": "-Ig64laUorBd",
        "outputId": "535dac76-3448-4acb-dd59-b7baf73abf16"
      },
      "outputs": [
        {
          "name": "stdout",
          "output_type": "stream",
          "text": [
            "[2, 4, 7, 9]\n",
            "[2, 4]\n",
            "[4, 7, 9]\n",
            "[4, 7]\n"
          ]
        }
      ],
      "source": [
        "# Prefix, suffix, and section of list\n",
        "print(a)\n",
        "print (a[:2]) # prefix\n",
        "print (a[1:]) # suffix\n",
        "print (a[1:3]) # middle (subset)"
      ]
    },
    {
      "cell_type": "code",
      "execution_count": null,
      "metadata": {
        "colab": {
          "base_uri": "https://localhost:8080/"
        },
        "id": "ZBn99ym9orBd",
        "outputId": "6e9a9a0e-44dc-49ae-937b-f159e2925d9e"
      },
      "outputs": [
        {
          "name": "stdout",
          "output_type": "stream",
          "text": [
            "[2, 4, 7, 9, 12, 14]\n"
          ]
        }
      ],
      "source": [
        "# Append to list\n",
        "a.append(12)\n",
        "a.append(14)\n",
        "print (a)"
      ]
    },
    {
      "cell_type": "code",
      "execution_count": null,
      "metadata": {
        "colab": {
          "base_uri": "https://localhost:8080/"
        },
        "id": "GMuAseCgorBd",
        "outputId": "1b5323cf-f52c-461a-a774-2524e0193020"
      },
      "outputs": [
        {
          "name": "stdout",
          "output_type": "stream",
          "text": [
            "[2, 4, 7, 9, 12, 14, 15, 20, 30]\n"
          ]
        }
      ],
      "source": [
        "# Combine two lists\n",
        "a = a + [15, 20, 30]\n",
        "print (a)"
      ]
    },
    {
      "cell_type": "code",
      "execution_count": null,
      "metadata": {
        "colab": {
          "base_uri": "https://localhost:8080/"
        },
        "id": "aOKqZ-RLorBe",
        "outputId": "5ecb40df-1746-4ea0-c6de-cd2f5260c37f"
      },
      "outputs": [
        {
          "name": "stdout",
          "output_type": "stream",
          "text": [
            "[1, 'two', 3.0, [4, 5, 6]]\n",
            "<class 'list'>\n",
            "<class 'int'> <class 'str'> <class 'float'> <class 'list'>\n"
          ]
        }
      ],
      "source": [
        "# List elements can be of different types\n",
        "a = [1, 'two', 3.0, [4,5,6]]\n",
        "print (a)\n",
        "print (type(a))\n",
        "print (type(a[0]), type(a[1]), type(a[2]), type (a[3]))"
      ]
    },
    {
      "cell_type": "markdown",
      "metadata": {
        "id": "dWAx53MSorBe"
      },
      "source": [
        "### Dictionaries (key-value mappings)"
      ]
    },
    {
      "cell_type": "code",
      "execution_count": null,
      "metadata": {
        "colab": {
          "base_uri": "https://localhost:8080/"
        },
        "id": "gHvU8owWorBe",
        "outputId": "8a812492-7487-4eff-efc7-3bc41941e64c"
      },
      "outputs": [
        {
          "name": "stdout",
          "output_type": "stream",
          "text": [
            "{'name': 'Mary', 'age': 20, 'gender': 'F'}\n",
            "<class 'dict'>\n"
          ]
        }
      ],
      "source": [
        "# Dictionary\n",
        "a = {'name': 'Mary', 'age': 20, 'gender': 'F'}\n",
        "print (a)\n",
        "print (type(a))"
      ]
    },
    {
      "cell_type": "code",
      "execution_count": null,
      "metadata": {
        "colab": {
          "base_uri": "https://localhost:8080/",
          "height": 215
        },
        "id": "c46KA4cRorBe",
        "outputId": "4aeeae60-9e49-4ec6-db7b-f3e93f608785"
      },
      "outputs": [
        {
          "name": "stdout",
          "output_type": "stream",
          "text": [
            "20\n"
          ]
        },
        {
          "ename": "KeyError",
          "evalue": "ignored",
          "output_type": "error",
          "traceback": [
            "\u001b[0;31m---------------------------------------------------------------------------\u001b[0m",
            "\u001b[0;31mKeyError\u001b[0m                                  Traceback (most recent call last)",
            "\u001b[0;32m<ipython-input-45-685e8a1293b5>\u001b[0m in \u001b[0;36m<module>\u001b[0;34m()\u001b[0m\n\u001b[1;32m      3\u001b[0m  \u001b[0;31m#also\u001b[0m\u001b[0;34m\u001b[0m\u001b[0;34m\u001b[0m\u001b[0;34m\u001b[0m\u001b[0m\n\u001b[1;32m      4\u001b[0m  \u001b[0;31m#try\u001b[0m\u001b[0;34m\u001b[0m\u001b[0;34m\u001b[0m\u001b[0;34m\u001b[0m\u001b[0m\n\u001b[0;32m----> 5\u001b[0;31m \u001b[0ma\u001b[0m\u001b[0;34m[\u001b[0m\u001b[0;34m'gender'\u001b[0m\u001b[0;34m]\u001b[0m\u001b[0;34m,\u001b[0m \u001b[0ma\u001b[0m\u001b[0;34m[\u001b[0m\u001b[0;34m'salary'\u001b[0m\u001b[0;34m]\u001b[0m\u001b[0;34m\u001b[0m\u001b[0;34m\u001b[0m\u001b[0m\n\u001b[0m",
            "\u001b[0;31mKeyError\u001b[0m: 'salary'"
          ]
        }
      ],
      "source": [
        "# Look up value of element by key - most important feature!\n",
        "print (a['age'])\n",
        " #also \n",
        " #try \n",
        "a['gender'], a['salary']"
      ]
    },
    {
      "cell_type": "code",
      "execution_count": null,
      "metadata": {
        "colab": {
          "base_uri": "https://localhost:8080/"
        },
        "id": "fk9r8xcTorBe",
        "outputId": "0a33738c-6cef-43c0-e6d6-05650b87b933"
      },
      "outputs": [
        {
          "name": "stdout",
          "output_type": "stream",
          "text": [
            "M\n"
          ]
        }
      ],
      "source": [
        "a['gender'] = 'M'\n",
        "print (a['gender'])"
      ]
    },
    {
      "cell_type": "code",
      "execution_count": null,
      "metadata": {
        "colab": {
          "base_uri": "https://localhost:8080/"
        },
        "id": "hQoutDJNorBe",
        "outputId": "ee52bf5d-811a-464d-fbb3-6765b66c2f3f"
      },
      "outputs": [
        {
          "name": "stdout",
          "output_type": "stream",
          "text": [
            "{'name': 'Mary', 'age': 21, 'gender': 'M'}\n"
          ]
        }
      ],
      "source": [
        "# Modify value\n",
        "a['age'] = 21\n",
        "print (a)"
      ]
    },
    {
      "cell_type": "code",
      "execution_count": null,
      "metadata": {
        "colab": {
          "base_uri": "https://localhost:8080/"
        },
        "id": "NIJeP9jtorBf",
        "outputId": "de1a7cc2-1780-4373-d260-423bddcc4580"
      },
      "outputs": [
        {
          "name": "stdout",
          "output_type": "stream",
          "text": [
            "Mary is young\n",
            "John is old\n",
            "Bill is young\n",
            "Susan is old\n"
          ]
        }
      ],
      "source": [
        "# Iterating through a list of dictionaries\n",
        "dlist = [{'name':'Mary', 'age':20}, {'name':'John', 'age':30},\\\n",
        "         {'name':'Bill', 'age':10}, {'name':'Susan', 'age':40}] # list of dictionaries\n",
        "\n",
        "\n",
        "for x in dlist:\n",
        "    if x['age'] >= 30:\n",
        "        print (x['name'], 'is old')\n",
        "    if x['age'] <= 20:\n",
        "        print (x['name'], 'is young')"
      ]
    },
    {
      "cell_type": "code",
      "execution_count": null,
      "metadata": {
        "colab": {
          "base_uri": "https://localhost:8080/"
        },
        "id": "JG3-SmljorBf",
        "outputId": "989c2266-0ec9-4a94-feb0-b15c76f9a15c"
      },
      "outputs": [
        {
          "name": "stdout",
          "output_type": "stream",
          "text": [
            "{'name': 'Mary', 'age': 21, 'gender': 'M', 'salary': 100}\n"
          ]
        }
      ],
      "source": [
        "# Add new key-value pair\n",
        "a['salary'] = 100\n",
        "print (a)"
      ]
    },
    {
      "cell_type": "code",
      "execution_count": null,
      "metadata": {
        "colab": {
          "base_uri": "https://localhost:8080/"
        },
        "id": "PdUCNfaSorBf",
        "outputId": "030c867e-fca1-4ecc-ef44-488e658d849d"
      },
      "outputs": [
        {
          "name": "stdout",
          "output_type": "stream",
          "text": [
            "{'name': 'Professor'}\n"
          ]
        }
      ],
      "source": [
        "# Duplicate keys not allowed - note overwriting behavior\n",
        "a = {'name': 'BryanDadiz', 'name': 'Professor'}\n",
        "print (a)"
      ]
    },
    {
      "cell_type": "markdown",
      "metadata": {
        "id": "mwa6az_ForBf"
      },
      "source": [
        "### <font color = 'green'>Your Turn</font>"
      ]
    },
    {
      "cell_type": "code",
      "execution_count": 10,
      "metadata": {
        "id": "sQh7FDqForBj"
      },
      "outputs": [
        {
          "name": "stdout",
          "output_type": "stream",
          "text": [
            "red\n",
            "blue\n",
            "green\n",
            "yellow\n"
          ]
        }
      ],
      "source": [
        "# Below is code that creates a list of four items,\n",
        "# represented as dictionaries specifying each item's\n",
        "# color and size.\n",
        "# Add code to ask for a number, then print the color of all\n",
        "# items whose size is greater than that number.\n",
        "items = [{'color':'red', 'size':10}, {'color':'blue', 'size':3},\\\n",
        "         {'color':'green', 'size':15}, {'color':'yellow', 'size':6}]\n",
        "a = input('input number')\n",
        "\n",
        "for i in items:\n",
        "    if i['size'] > int(a):\n",
        "        print (i['color'])\n",
        "\n",
        "#YOUR CODE HERE - You should only need to add four lines of code!\\"
      ]
    },
    {
      "cell_type": "markdown",
      "metadata": {
        "id": "p3iozSL2orBj"
      },
      "source": [
        "### While-Loops"
      ]
    },
    {
      "cell_type": "code",
      "execution_count": null,
      "metadata": {
        "colab": {
          "base_uri": "https://localhost:8080/"
        },
        "id": "P3r10DHsorBj",
        "outputId": "7fccf7da-0994-4a01-ff4e-94c91b4ba960"
      },
      "outputs": [
        {
          "name": "stdout",
          "output_type": "stream",
          "text": [
            "Enter a number, 0 to stop: 1\n",
            "1\n",
            "Enter a number, 0 to stop: 2\n",
            "2\n",
            "Enter a number, 0 to stop: 0\n",
            "Done\n"
          ]
        }
      ],
      "source": [
        "# Echo user input, 0 indicates stop\n",
        "a = input('Enter a number, 0 to stop: ')\n",
        "while int(a) != 0:\n",
        "    print (a)\n",
        "    a = input('Enter a number, 0 to stop: ')\n",
        "print ('Done')\n",
        "# Change to while True and break"
      ]
    },
    {
      "cell_type": "markdown",
      "metadata": {
        "id": "8va7Qaw2orBj"
      },
      "source": [
        "### <font color = 'green'>Your Turn</font>"
      ]
    },
    {
      "cell_type": "code",
      "execution_count": null,
      "metadata": {
        "id": "pRI_IU3gorBk"
      },
      "outputs": [],
      "source": [
        "# Copy-paste your program from the previous Your Turn and revise\n",
        "# it to a loop that repeatedly asks for two numbers and prints the\n",
        "# color of all items whose size is between the two numbers, i.e.,\n",
        "# whose size is higher than the first number and lower than the\n",
        "# second number.\n",
        "# If the user's second number is equal to or smaller than\n",
        "# the first number, the program should print 'Done' and stop.\n",
        "# Note: for the \"and\" of two conditions C1 and C2, use \"C1 and C2\"\n",
        "#YOUR CODE HERE\n"
      ]
    },
    {
      "cell_type": "markdown",
      "metadata": {
        "id": "2nCXkd2dorBk"
      },
      "source": [
        "### Functions (just FYI)"
      ]
    },
    {
      "cell_type": "code",
      "execution_count": null,
      "metadata": {
        "colab": {
          "base_uri": "https://localhost:8080/"
        },
        "id": "j7dh12zvorBk",
        "outputId": "9055945d-a586-476a-9d29-753b43d7db09"
      },
      "outputs": [
        {
          "name": "stdout",
          "output_type": "stream",
          "text": [
            "This function has no arguments or return value\n"
          ]
        }
      ],
      "source": [
        "# Create a function with no arguments or return value\n",
        "def simple():\n",
        "    print ('This function has no arguments or return value')\n",
        "\n",
        "simple()"
      ]
    },
    {
      "cell_type": "code",
      "execution_count": null,
      "metadata": {
        "colab": {
          "base_uri": "https://localhost:8080/"
        },
        "id": "Kde9aEjzorBl",
        "outputId": "fa4c6d1a-fcd0-4553-e75b-8c7a92ceb35f"
      },
      "outputs": [
        {
          "name": "stdout",
          "output_type": "stream",
          "text": [
            "This function has no arguments or return value\n",
            "This function has no arguments or return value\n",
            "This function has no arguments or return value\n",
            "This function has no arguments or return value\n",
            "This function has no arguments or return value\n"
          ]
        }
      ],
      "source": [
        "# Call the function five times\n",
        "for i in range(5):\n",
        "    simple()"
      ]
    },
    {
      "cell_type": "code",
      "execution_count": null,
      "metadata": {
        "colab": {
          "base_uri": "https://localhost:8080/"
        },
        "id": "qh2cCL2MorBl",
        "outputId": "5e817c9c-3d66-4e67-bf79-0ffcf3863c08"
      },
      "outputs": [
        {
          "data": {
            "text/plain": [
              "6"
            ]
          },
          "execution_count": 59,
          "metadata": {
            "tags": []
          },
          "output_type": "execute_result"
        }
      ],
      "source": [
        "# Create a function with arguments and a return value\n",
        "def addthem(a, b):\n",
        "    return a + b\n",
        "\n",
        "addthem(1, 5)"
      ]
    },
    {
      "cell_type": "code",
      "execution_count": null,
      "metadata": {
        "colab": {
          "base_uri": "https://localhost:8080/"
        },
        "id": "bHeNU9DDorBl",
        "outputId": "833a22cb-099c-453f-bd70-39e4abbc114d"
      },
      "outputs": [
        {
          "name": "stdout",
          "output_type": "stream",
          "text": [
            "1 2 3\n",
            "2 3 5\n",
            "3 4 7\n",
            "4 5 9\n",
            "5 6 11\n"
          ]
        }
      ],
      "source": [
        "# Call the function five times\n",
        "for i in [1,2,3,4,5]:\n",
        "    print (i, i+1, addthem(i,i+1))"
      ]
    },
    {
      "cell_type": "code",
      "execution_count": null,
      "metadata": {
        "colab": {
          "base_uri": "https://localhost:8080/"
        },
        "id": "tcGfUnS2orBl",
        "outputId": "008425c7-2bbf-4df2-b97a-857d81bd399b"
      },
      "outputs": [
        {
          "data": {
            "text/plain": [
              "27"
            ]
          },
          "execution_count": 64,
          "metadata": {
            "tags": []
          },
          "output_type": "execute_result"
        }
      ],
      "source": [
        "# create a function square\n",
        "def sqr(a):\n",
        "    c  = a ** a\n",
        "    return c\n",
        "\n",
        "sqr(3)"
      ]
    },
    {
      "cell_type": "code",
      "execution_count": null,
      "metadata": {
        "colab": {
          "base_uri": "https://localhost:8080/"
        },
        "id": "h8HPgmRcorBm",
        "outputId": "8cab33e6-4926-4e77-b458-b605bc62fffa"
      },
      "outputs": [
        {
          "name": "stdout",
          "output_type": "stream",
          "text": [
            "<class 'int'>\n",
            "8\n"
          ]
        }
      ],
      "source": [
        "# recall the function inside another function\n",
        "def cube(b):\n",
        "    print (type(b))\n",
        "    print (sqr(b)*b)  # from the square function\n",
        "\n",
        "\n",
        "cube(2)"
      ]
    },
    {
      "cell_type": "markdown",
      "metadata": {
        "id": "1WshtO4qorBm"
      },
      "source": [
        "### <font color = 'green'>Your Turn</font>"
      ]
    },
    {
      "cell_type": "code",
      "execution_count": null,
      "metadata": {
        "id": "JSIeoU8UorBm"
      },
      "outputs": [],
      "source": [
        "# Copy-paste your program from the previous Your Turn and revise\n",
        "# Be able to create a function that will print even numbers from 1 - 100\n",
        "# use a function name evenNumbers()\n",
        "#YOUR CODE HERE"
      ]
    },
    {
      "cell_type": "code",
      "execution_count": null,
      "metadata": {
        "id": "AdBVZjgykZZK"
      },
      "outputs": [],
      "source": [
        "def evenNumber():\n",
        "  for x in range(100):\n",
        "    "
      ]
    }
  ],
  "metadata": {
    "colab": {
      "collapsed_sections": [
        "IFOxev2dorBa",
        "cMcsWBzyorBa",
        "lEJER7yborBb",
        "KPOPnkrhorBb",
        "dWAx53MSorBe",
        "mwa6az_ForBf",
        "p3iozSL2orBj",
        "8va7Qaw2orBj",
        "2nCXkd2dorBk",
        "1WshtO4qorBm"
      ],
      "provenance": [],
      "toc_visible": true
    },
    "kernelspec": {
      "display_name": "Python 3.10.7 ('virt': venv)",
      "language": "python",
      "name": "python3"
    },
    "language_info": {
      "codemirror_mode": {
        "name": "ipython",
        "version": 3
      },
      "file_extension": ".py",
      "mimetype": "text/x-python",
      "name": "python",
      "nbconvert_exporter": "python",
      "pygments_lexer": "ipython3",
      "version": "3.10.7"
    },
    "vscode": {
      "interpreter": {
        "hash": "e316ef58f381d2ab0eca150d3122bdd10780c1cd6317744f418120f098ab1ea3"
      }
    }
  },
  "nbformat": 4,
  "nbformat_minor": 0
}
